{
  "nbformat": 4,
  "nbformat_minor": 0,
  "metadata": {
    "colab": {
      "name": "Word_Cloud.ipynb",
      "provenance": [],
      "authorship_tag": "ABX9TyNwhGr28r33VFRtTol3Ypw0",
      "include_colab_link": true
    },
    "kernelspec": {
      "name": "python3",
      "display_name": "Python 3"
    }
  },
  "cells": [
    {
      "cell_type": "markdown",
      "metadata": {
        "id": "view-in-github",
        "colab_type": "text"
      },
      "source": [
        "<a href=\"https://colab.research.google.com/github/Sridhar1502/resources/blob/master/Word_Cloud.ipynb\" target=\"_parent\"><img src=\"https://colab.research.google.com/assets/colab-badge.svg\" alt=\"Open In Colab\"/></a>"
      ]
    },
    {
      "cell_type": "markdown",
      "metadata": {
        "id": "3YBm4SO8uzkT",
        "colab_type": "text"
      },
      "source": [
        "# Word Cloud using Python\n",
        "\n",
        "\n",
        "---\n",
        "\n",
        "\n",
        "\n",
        "A Word Cloud is a visualisation of text data and keywords which are frequently occured in given text or data. For given text or data in '.txt' formatted file this code generates a Word Cloud. The text must be compulsorily in text(.txt) format. Save the data you want to generate a wordcloud for in .txt format onto your computer.\n",
        "\n",
        "Firstly we need to install some required libraries viz. wordcloud, fileupload, ipywidgets and jupyter extensions for fileupload."
      ]
    },
    {
      "cell_type": "code",
      "metadata": {
        "id": "IS54nO0ghrsp",
        "colab_type": "code",
        "colab": {}
      },
      "source": [
        "!pip install wordcloud\n",
        "!pip install fileupload\n",
        "!pip install ipywidgets\n",
        "!jupyter nbextension install --py --user fileupload\n",
        "!jupyter nbextension enable --py fileupload\n",
        "\n",
        "import wordcloud\n",
        "import numpy as np\n",
        "from matplotlib import pyplot as plt\n",
        "from IPython.display import display\n",
        "import fileupload\n",
        "import io\n",
        "import sys"
      ],
      "execution_count": null,
      "outputs": []
    },
    {
      "cell_type": "markdown",
      "metadata": {
        "id": "u7QlN4eUvvX6",
        "colab_type": "text"
      },
      "source": [
        "### Uploading Files\n",
        "\n",
        "\n",
        "---\n",
        "\n",
        "In this part of code we generate a widget named 'Browse'. By clicking this widget a dialogue box opens in which ypu can browse file for which we you want to generate Word Cloud.\n",
        "\n",
        "Here, from already imported *fileupload* library we use *FileUploadWidget()* to generate that \"*Browse*\" button.\n",
        "\n",
        "Your uploaded file will be named as \"*file_contents*\" for further use in our code.\n",
        "\n",
        "**Note : The file uploaded must contain only text(alphabets) no integers.**\n"
      ]
    },
    {
      "cell_type": "code",
      "metadata": {
        "id": "Cp7mTeUFh2NY",
        "colab_type": "code",
        "colab": {}
      },
      "source": [
        "# This is the uploader widget\n",
        "\n",
        "def _upload():\n",
        "\n",
        "    _upload_widget = fileupload.FileUploadWidget()\n",
        "\n",
        "    def _cb(change):\n",
        "        global file_contents\n",
        "        decoded = io.StringIO(change['owner'].data.decode('utf-8'))\n",
        "        filename = change['owner'].filename\n",
        "        print('Uploaded `{}` ({:.2f} kB)'.format(\n",
        "            filename, len(decoded.read()) / 2 **10))\n",
        "        file_contents = decoded.getvalue()\n",
        "\n",
        "    _upload_widget.observe(_cb, names='data')\n",
        "    display(_upload_widget)\n",
        "\n",
        "_upload()"
      ],
      "execution_count": null,
      "outputs": []
    },
    {
      "cell_type": "markdown",
      "metadata": {
        "id": "tH26QOTqxzCf",
        "colab_type": "text"
      },
      "source": [
        "### Calculating Frequencies of words by processing our text\n",
        "\n",
        "\n",
        "---\n",
        "Here we calculate the frequencies of words in your uploaded file named \"*file_contents*\" by following steps:\n",
        "\n",
        "1)Firstly, removing punctuation marks if any.\n",
        "\n",
        "2)And then removing \"*uninteresting_words*\" as given in code.\n",
        "\n",
        "3) Then removing integers if any\n",
        "\n",
        "After all of that make a dictionary with keys as words in your text after removing punctuation marks and uninteresting_marks and values as frequencies of words.\n",
        "\n",
        "Then using WordCloud library generate a cloud of words.\n",
        "\n"
      ]
    },
    {
      "cell_type": "code",
      "metadata": {
        "id": "iIfDJleWtkpI",
        "colab_type": "code",
        "colab": {}
      },
      "source": [
        "def calculate_frequencies(file_contents):\n",
        "    # Here is a list of punctuations and uninteresting words you can use to process your text\n",
        "    punctuations = '''!()-[]{};:'\"\\,<>./?@#$%^&*_~'''\n",
        "    uninteresting_words = [\"the\", \"a\", \"to\", \"if\", \"is\", \"it\", \"of\", \"and\", \"or\", \"an\", \"as\", \"i\", \"me\", \"my\", \\\n",
        "    \"we\", \"our\", \"ours\", \"you\", \"your\", \"yours\", \"he\", \"she\", \"him\", \"his\", \"her\", \"hers\", \"its\", \"they\", \"them\", \\\n",
        "    \"their\", \"what\", \"which\", \"who\", \"whom\", \"this\", \"that\", \"am\", \"are\", \"was\", \"were\", \"be\", \"been\", \"being\", \\\n",
        "    \"have\", \"has\", \"had\", \"do\", \"does\", \"did\", \"but\", \"at\", \"by\", \"with\", \"from\", \"here\", \"when\", \"where\", \"how\", \\\n",
        "    \"all\", \"any\", \"both\", \"each\", \"few\", \"more\", \"some\", \"such\", \"no\", \"nor\", \"too\", \"very\", \"can\", \"will\", \"just\"]\n",
        "    \n",
        "    # LEARNER CODE START HERE\n",
        "    my_string = file_contents\n",
        "    mod_str = \"\" #modified string\n",
        "    for char in my_string:\n",
        "        if char not in punctuations:\n",
        "            mod_str+=char\n",
        "\n",
        "    mod_str1 = mod_str.split()\n",
        "    resultwords  = [word for word in mod_str1 if word.lower() not in uninteresting_words]\n",
        "    result = ' '.join(resultwords)\n",
        "    result= result.split(\" \")\n",
        "    # print(res1)\n",
        "    no_int = [x for x in result if not (x.isdigit() \n",
        "                                        or x[0] == '-' and x[1:].isdigit())]\n",
        "    \n",
        "    result=no_int  \n",
        "    res=dict((x,result.count(x)) for x in set(result))\n",
        "    freq = {}#frequencies of words\n",
        "    for k,v in res.items():\n",
        "        freq[k] = int(v)\n",
        "        \n",
        "    #wordcloud\n",
        "    cloud = wordcloud.WordCloud()   \n",
        "    cloud.generate_from_frequencies(freq)\n",
        "    return cloud.to_array()"
      ],
      "execution_count": null,
      "outputs": []
    },
    {
      "cell_type": "markdown",
      "metadata": {
        "id": "11PygVsD2lh8",
        "colab_type": "text"
      },
      "source": [
        "### Generating the image of Word Cloud\n",
        "---\n",
        "\n",
        "At last this code gives us the word cloud for our given text or data using plt.imshow(), plt.show() in \"*matplotlib*\" library."
      ]
    },
    {
      "cell_type": "code",
      "metadata": {
        "id": "eei-Bxfztses",
        "colab_type": "code",
        "colab": {}
      },
      "source": [
        "# Display your wordcloud image\n",
        "\n",
        "myimage = calculate_frequencies(file_contents)\n",
        "plt.imshow(myimage, interpolation = 'nearest')\n",
        "plt.axis('off')\n",
        "plt.show()"
      ],
      "execution_count": null,
      "outputs": []
    }
  ]
}